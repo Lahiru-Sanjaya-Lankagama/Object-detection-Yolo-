{
 "cells": [
  {
   "cell_type": "code",
   "execution_count": 62,
   "metadata": {},
   "outputs": [],
   "source": [
    "import cv2 as cv\n",
    "import numpy as np\n",
    "import matplotlib.pyplot as plt"
   ]
  },
  {
   "cell_type": "code",
   "execution_count": 63,
   "metadata": {},
   "outputs": [],
   "source": [
    "yolo = cv.dnn.readNet(\".\\yolov3.weights\", \".\\yolov3.cfg\")"
   ]
  },
  {
   "cell_type": "code",
   "execution_count": 64,
   "metadata": {},
   "outputs": [],
   "source": [
    "classess = []\n",
    "with open(\".\\coco.names\", 'r') as f:\n",
    "    classess = f.read().splitlines()\n",
    "    "
   ]
  },
  {
   "cell_type": "code",
   "execution_count": 65,
   "metadata": {},
   "outputs": [],
   "source": [
    "cap = cv.VideoCapture(r\"D:\\Object detection\\video.mp4\")\n",
    "\n",
    "if not cap.isOpened():\n",
    "    print(\"Error opening Video File.\")\n",
    "\n"
   ]
  },
  {
   "cell_type": "code",
   "execution_count": 66,
   "metadata": {},
   "outputs": [
    {
     "name": "stdout",
     "output_type": "stream",
     "text": [
      "Frames per second: 25.0\n"
     ]
    }
   ],
   "source": [
    "fps = cap.get(cv.CAP_PROP_FPS)\n",
    "print(f\"Frames per second: {fps}\")"
   ]
  },
  {
   "cell_type": "code",
   "execution_count": 67,
   "metadata": {},
   "outputs": [],
   "source": [
    "cv.setUseOptimized(True)\n",
    "cv.setNumThreads(4) "
   ]
  },
  {
   "cell_type": "code",
   "execution_count": 68,
   "metadata": {},
   "outputs": [],
   "source": [
    "while (True):\n",
    "    ret, frame = cap.read()\n",
    "    height, width,_ = frame.shape\n",
    "    \n",
    "    blob = cv.dnn.blobFromImage(frame, 1/255, (320, 320), (0,0,0), swapRB=True, crop=False)\n",
    "    i = blob[0].reshape(320, 320, 3)\n",
    "    \n",
    "    yolo.setInput(blob)\n",
    "    output_layers_name = yolo.getUnconnectedOutLayersNames()\n",
    "    layeroutput = yolo.forward(output_layers_name)\n",
    "    \n",
    "    boxes = []\n",
    "    confidences = []\n",
    "    class_ids = []\n",
    "\n",
    "    for output in layeroutput:\n",
    "        for detection in output:\n",
    "            score = detection[5:]\n",
    "            class_id = np.argmax(score)\n",
    "            confidence = score[class_id]\n",
    "            if confidence > 0.7:\n",
    "                center_x = int(detection[0]*width)\n",
    "                center_y = int(detection[1]*height)\n",
    "                w = int(detection[2]*width)\n",
    "                h = int(detection[3]*height)\n",
    "                \n",
    "                x = int(center_x - w/2)\n",
    "                y = int(center_y - h/2)\n",
    "                \n",
    "                boxes.append([x,y,w,h])\n",
    "                confidences.append(float(confidence))\n",
    "                class_ids.append(class_id)\n",
    "    \n",
    "    \n",
    "    indexes = cv.dnn.NMSBoxes(boxes, confidences, 0.5, 0.4)\n",
    "    font = cv.FONT_HERSHEY_PLAIN\n",
    "    colors = np.random.uniform(0, 255, size = (len(boxes), 3))\n",
    "    \n",
    "    for i in indexes.flatten():\n",
    "        x,y,w,h = boxes[i]\n",
    "        label = str(classess[class_ids[i]])\n",
    "        confi = str(round(confidences[i], 2))\n",
    "        color = colors[i]\n",
    "        \n",
    "        cv.rectangle(frame, (x,y), (x+w, y+h), color, 3)\n",
    "        cv.putText(frame, label+\"\"+confi, (x, y+20), font, 2, (255, 255, 255), 2)  \n",
    "    \n",
    "\n",
    "    cv.imshow(\"output\", frame)\n",
    "    \n",
    "    if (cv.waitKey(1) & 0xFF == ord('q')):\n",
    "        break\n",
    "\n",
    "cap.release()\n",
    "cv.destroyAllWindows()"
   ]
  }
 ],
 "metadata": {
  "kernelspec": {
   "display_name": "cv",
   "language": "python",
   "name": "python3"
  },
  "language_info": {
   "codemirror_mode": {
    "name": "ipython",
    "version": 3
   },
   "file_extension": ".py",
   "mimetype": "text/x-python",
   "name": "python",
   "nbconvert_exporter": "python",
   "pygments_lexer": "ipython3",
   "version": "3.11.5"
  }
 },
 "nbformat": 4,
 "nbformat_minor": 2
}
